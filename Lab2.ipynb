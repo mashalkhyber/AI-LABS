{
  "nbformat": 4,
  "nbformat_minor": 0,
  "metadata": {
    "colab": {
      "provenance": [],
      "toc_visible": true
    },
    "kernelspec": {
      "name": "python3",
      "display_name": "Python 3"
    },
    "language_info": {
      "name": "python"
    }
  },
  "cells": [
    {
      "cell_type": "code",
      "execution_count": null,
      "metadata": {
        "id": "JG-cypzLAKnu"
      },
      "outputs": [],
      "source": []
    },
    {
      "cell_type": "markdown",
      "source": [],
      "metadata": {
        "id": "QbmpEqEOC9OV"
      }
    },
    {
      "cell_type": "markdown",
      "source": [
        "### **list**"
      ],
      "metadata": {
        "id": "_o8CuUGIAtLF"
      }
    },
    {
      "cell_type": "code",
      "source": [
        "!pip install numpy\n",
        "#creating a list of 10 integer\n",
        "numbers = [1,2,3,4,5,6,7,8,9,10]\n",
        "print(numbers)\n",
        "#sum,max,min\n",
        "print('Sum',sum(numbers))\n",
        "print('max',max(numbers))\n",
        "print('Min',min(numbers))\n",
        "#Add and remove element\n",
        "numbers.append(50)\n",
        "numbers.remove(4)\n",
        "print('Updated List:',numbers)\n",
        "\n",
        "#sort ascending and descending\n",
        "print('Ascending:',sorted(numbers))\n",
        "print('Descending:',sorted(numbers , reverse=True))"
      ],
      "metadata": {
        "colab": {
          "base_uri": "https://localhost:8080/"
        },
        "id": "HUyonjomBO8E",
        "outputId": "90fdf107-49ba-4b7a-aff3-f04f6f8ecb12"
      },
      "execution_count": null,
      "outputs": [
        {
          "output_type": "stream",
          "name": "stdout",
          "text": [
            "Requirement already satisfied: numpy in /usr/local/lib/python3.12/dist-packages (2.0.2)\n",
            "[1, 2, 3, 4, 5, 6, 7, 8, 9, 10]\n",
            "Sum 55\n",
            "max 10\n",
            "Min 1\n",
            "Updated List: [1, 2, 3, 5, 6, 7, 8, 9, 10, 50]\n",
            "Ascending: [1, 2, 3, 5, 6, 7, 8, 9, 10, 50]\n",
            "Descending: [50, 10, 9, 8, 7, 6, 5, 3, 2, 1]\n"
          ]
        }
      ]
    },
    {
      "cell_type": "markdown",
      "source": [],
      "metadata": {
        "id": "BPRP62QOAxGM"
      }
    },
    {
      "cell_type": "markdown",
      "source": [
        "# `**tuples**`"
      ],
      "metadata": {
        "id": "DZ7DmI8XAxt8"
      }
    },
    {
      "cell_type": "code",
      "source": [
        "#creating a tuple with 5 strings\n",
        "fruits = ('apple','banana','orange','grapes','mango')\n",
        "print(fruits)\n",
        "#printing the secound last and last index\n",
        "print('Secound Last:',fruits[-2])\n",
        "print('Last:',fruits[-1])\n",
        "\n",
        "#try to modify so give error or not\n",
        "#fruits[1]='kiwi'\n",
        "\n",
        "#now add element to touple through converting it is to list and then back to touple\n",
        "fruits = list(fruits)\n",
        "fruits.append('kiwi')\n",
        "fruits = tuple(fruits)\n",
        "print(fruits)\n"
      ],
      "metadata": {
        "colab": {
          "base_uri": "https://localhost:8080/"
        },
        "id": "2jtaiG70Eint",
        "outputId": "e168ba38-83b9-484c-eafa-ea1bca7e9b4f"
      },
      "execution_count": null,
      "outputs": [
        {
          "output_type": "stream",
          "name": "stdout",
          "text": [
            "('apple', 'banana', 'orange', 'grapes', 'mango')\n",
            "Secound Last: grapes\n",
            "Last: mango\n",
            "('apple', 'banana', 'orange', 'grapes', 'mango', 'kiwi')\n"
          ]
        }
      ]
    },
    {
      "cell_type": "markdown",
      "source": [
        "# **Dictionary**"
      ],
      "metadata": {
        "id": "nPuIPmRHA1EM"
      }
    },
    {
      "cell_type": "code",
      "source": [
        "#creating 5 keys-value of student and marks\n",
        "student_marks = {\n",
        "    'Alice': 85,\n",
        "    'Bob': 92,\n",
        "    'Charlie': 78,\n",
        "    'David': 95,\n",
        "    'Eve': 88\n",
        "}\n",
        "print(student_marks)\n",
        "#print value and keys\n",
        "\n"
      ],
      "metadata": {
        "colab": {
          "base_uri": "https://localhost:8080/"
        },
        "id": "5YUfgMAaJR9e",
        "outputId": "b55a4fc0-6b99-43e1-bfea-e6ffb37afa0f"
      },
      "execution_count": null,
      "outputs": [
        {
          "output_type": "stream",
          "name": "stdout",
          "text": [
            "{'Alice': 85, 'Bob': 92, 'Charlie': 78, 'David': 95, 'Eve': 88}\n"
          ]
        }
      ]
    },
    {
      "cell_type": "markdown",
      "source": [
        "# **Numpy**"
      ],
      "metadata": {
        "id": "sZxbIGFcA5KE"
      }
    },
    {
      "cell_type": "markdown",
      "source": [
        "# **Sets**"
      ],
      "metadata": {
        "id": "RPvbOiamA8RU"
      }
    },
    {
      "cell_type": "code",
      "source": [
        "#create sets\n",
        "set1 = {1,2,3,4,5}\n",
        "set2 = {4,5,6,7,8}\n",
        "#union\n",
        "print('Union:',set1.union(set2))\n",
        "#intersection\n",
        "print('Intersection:',set1.intersection(set2))\n",
        "#difference\n",
        "print('Difference:',set1.difference(set2))\n",
        "\n"
      ],
      "metadata": {
        "colab": {
          "base_uri": "https://localhost:8080/"
        },
        "id": "cQ5rUVETHNy-",
        "outputId": "118c3f94-00e8-4655-b302-74b267b79f99"
      },
      "execution_count": null,
      "outputs": [
        {
          "output_type": "stream",
          "name": "stdout",
          "text": [
            "Union: {1, 2, 3, 4, 5, 6, 7, 8}\n",
            "Intersection: {4, 5}\n",
            "Difference: {1, 2, 3}\n"
          ]
        }
      ]
    },
    {
      "cell_type": "code",
      "source": [],
      "metadata": {
        "id": "B09TIYWyIB_2"
      },
      "execution_count": null,
      "outputs": []
    },
    {
      "cell_type": "markdown",
      "source": [
        "# **Matplotib**"
      ],
      "metadata": {
        "id": "iDtA1zqnA-uV"
      }
    },
    {
      "cell_type": "markdown",
      "source": [],
      "metadata": {
        "id": "sAsUrq2DBEVE"
      }
    }
  ]
}