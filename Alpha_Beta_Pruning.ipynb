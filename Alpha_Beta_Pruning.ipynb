{
  "nbformat": 4,
  "nbformat_minor": 0,
  "metadata": {
    "colab": {
      "provenance": [],
      "toc_visible": true,
      "authorship_tag": "ABX9TyNxs53llqg1rsu1TGBGAeQ1",
      "include_colab_link": true
    },
    "kernelspec": {
      "name": "python3",
      "display_name": "Python 3"
    },
    "language_info": {
      "name": "python"
    }
  },
  "cells": [
    {
      "cell_type": "markdown",
      "metadata": {
        "id": "view-in-github",
        "colab_type": "text"
      },
      "source": [
        "<a href=\"https://colab.research.google.com/github/mashalkhyber/AI-LABS/blob/main/Alpha_Beta_Pruning.ipynb\" target=\"_parent\"><img src=\"https://colab.research.google.com/assets/colab-badge.svg\" alt=\"Open In Colab\"/></a>"
      ]
    },
    {
      "cell_type": "code",
      "execution_count": 2,
      "metadata": {
        "colab": {
          "base_uri": "https://localhost:8080/"
        },
        "id": "y9GOSxXLRNWZ",
        "outputId": "b64dacf4-9b60-473c-86c0-7d582c47eaa2"
      },
      "outputs": [
        {
          "output_type": "stream",
          "name": "stdout",
          "text": [
            "The optimal value is : 5\n"
          ]
        }
      ],
      "source": [
        "MAX, MIN = 1000, -1000\n",
        "\n",
        "#Returns optimal value of player\n",
        "#Initially called for root and maximizer\n",
        "def minimax(depth, nodeIndex, maximizingPlayer, values, alpha, beta):\n",
        "\t#Terminating condition that is leaf node is reached\n",
        "\tif depth == 3:\n",
        "\t\treturn values[nodeIndex]\n",
        "\n",
        "\tif maximizingPlayer:\n",
        "\t\tbest = MIN\n",
        "\n",
        "\t\t#Recur for left and right children\n",
        "\t\tfor i in range(0,2):\n",
        "\t\t\tval = minimax(depth + 1, nodeIndex * 2 + i, False, values, alpha, beta)\n",
        "\t\t\tbest = max(best, val)\n",
        "\t\t\talpha = max(alpha, best)\n",
        "\n",
        "\t\t\tif beta <= alpha:\n",
        "\t\t\t\tbreak\n",
        "\n",
        "\t\treturn best\n",
        "\telse:\n",
        "\t\tbest = MAX\n",
        "\n",
        "\t\t#Recure for left and right children\n",
        "\t\tfor i in range(0,2):\n",
        "\t\t\tval = minimax(depth + 1, nodeIndex * 2 + i, True, values, alpha, beta)\n",
        "\t\t\tbest = min(best, val)\n",
        "\t\t\tbeta = min(beta, best)\n",
        "\n",
        "\t\t\tif beta <= alpha:\n",
        "\t\t\t\tbreak\n",
        "\t\treturn best\n",
        "\n",
        "#Driver Code\n",
        "if __name__ == \"__main__\":\n",
        "\tvalues = [3, 5, 6, 9, 1, 2, 0, -1]\n",
        "\tprint('The optimal value is :', minimax(0, 0, True, values, MIN, MAX))"
      ]
    }
  ]
}