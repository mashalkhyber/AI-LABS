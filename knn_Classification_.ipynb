{
  "nbformat": 4,
  "nbformat_minor": 0,
  "metadata": {
    "colab": {
      "provenance": [],
      "toc_visible": true,
      "gpuType": "T4",
      "mount_file_id": "1AzwkD3O1WSlP-rG6J_ByBbI9kjAojk3k",
      "authorship_tag": "ABX9TyMp59O99iHD95/4dEJGL75D",
      "include_colab_link": true
    },
    "kernelspec": {
      "name": "python3",
      "display_name": "Python 3"
    },
    "language_info": {
      "name": "python"
    },
    "accelerator": "GPU"
  },
  "cells": [
    {
      "cell_type": "markdown",
      "metadata": {
        "id": "view-in-github",
        "colab_type": "text"
      },
      "source": [
        "<a href=\"https://colab.research.google.com/github/mashalkhyber/AI-LABS/blob/main/knn_Classification_.ipynb\" target=\"_parent\"><img src=\"https://colab.research.google.com/assets/colab-badge.svg\" alt=\"Open In Colab\"/></a>"
      ]
    },
    {
      "cell_type": "code",
      "source": [
        "# Import libraries\n",
        "from sklearn.datasets import load_iris\n",
        "from sklearn.model_selection import train_test_split\n",
        "from sklearn.neighbors import KNeighborsClassifier\n",
        "from sklearn.metrics import accuracy_score\n",
        "\n",
        "# Step 1: Load dataset\n",
        "data = load_iris()               # Load the Iris dataset\n",
        "\n",
        "# Step 2: Reduce features to induce underfitting\n",
        "X = data.data[:, :1]             # Use only the first feature (sepal length)\n",
        "y = data.target                  # Labels (outputs)\n",
        "\n",
        "# Step 3: Split data into training and testing sets (80% train, 20% test)\n",
        "X_train, X_test, y_train, y_test = train_test_split(\n",
        "    X, y, test_size=0.2, random_state=43\n",
        ")\n",
        "\n",
        "# Step 4: Create KNN model with high k value to underfit\n",
        "model = KNeighborsClassifier(n_neighbors=25)\n",
        "\n",
        "# Step 5: Train the model\n",
        "model.fit(X_train, y_train)\n",
        "\n",
        "# Step 6: Predict on both training and test data\n",
        "y_train_pred = model.predict(X_train)   # Predictions for training data\n",
        "y_test_pred = model.predict(X_test)     # Predictions for test data\n",
        "\n",
        "# Step 7: Evaluate accuracy for both\n",
        "train_accuracy = accuracy_score(y_train, y_train_pred)\n",
        "test_accuracy = accuracy_score(y_test, y_test_pred)\n",
        "\n",
        "# Step 8: Print the results\n",
        "print(\"Training Accuracy:\", train_accuracy)\n",
        "print(\"Testing Accuracy:\", test_accuracy)\n"
      ],
      "metadata": {
        "colab": {
          "base_uri": "https://localhost:8080/"
        },
        "id": "2k3N8wKZPwo5",
        "outputId": "88140c35-3a15-4cb4-b2a9-5bd0b3e3eddc"
      },
      "execution_count": 4,
      "outputs": [
        {
          "output_type": "stream",
          "name": "stdout",
          "text": [
            "Training Accuracy: 0.725\n",
            "Testing Accuracy: 0.7\n"
          ]
        }
      ]
    },
    {
      "cell_type": "code",
      "source": [],
      "metadata": {
        "id": "QHalAwOVVr3x"
      },
      "execution_count": null,
      "outputs": []
    }
  ]
}