{
  "nbformat": 4,
  "nbformat_minor": 0,
  "metadata": {
    "colab": {
      "provenance": [],
      "toc_visible": true,
      "authorship_tag": "ABX9TyPdViVEACmgtPdvc82RHVfm",
      "include_colab_link": true
    },
    "kernelspec": {
      "name": "python3",
      "display_name": "Python 3"
    },
    "language_info": {
      "name": "python"
    }
  },
  "cells": [
    {
      "cell_type": "markdown",
      "metadata": {
        "id": "view-in-github",
        "colab_type": "text"
      },
      "source": [
        "<a href=\"https://colab.research.google.com/github/mashalkhyber/AI-LABS/blob/main/LabAssignment1.ipynb\" target=\"_parent\"><img src=\"https://colab.research.google.com/assets/colab-badge.svg\" alt=\"Open In Colab\"/></a>"
      ]
    },
    {
      "cell_type": "markdown",
      "source": [
        "Name : Mashal\n",
        "Reg : sp23-bse-103\n",
        "\n",
        "Github:\n",
        "Youtube:https://youtu.be/dEnCMb3vOho?si=0nV61fPjIehvflyS"
      ],
      "metadata": {
        "id": "NzGpbUQQJy8W"
      }
    },
    {
      "cell_type": "markdown",
      "source": [
        "# 🧠 TASK #1: BFS and DFS on Trees and **Graphs**"
      ],
      "metadata": {
        "id": "LtrU7bRb0WU6"
      }
    },
    {
      "cell_type": "code",
      "source": [
        "# BFS and DFS on a graph\n",
        "graph = {\n",
        "    'A': ['B', 'C'],\n",
        "    'B': ['D', 'E'],\n",
        "    'C': ['F'],\n",
        "    'D': [], 'E': [], 'F': []\n",
        "}\n",
        "\n",
        "def bfs(graph, start):\n",
        "    visited = []\n",
        "    queue = [start]\n",
        "    while queue:\n",
        "        node = queue.pop(0)\n",
        "        if node not in visited:\n",
        "            visited.append(node)\n",
        "            queue.extend(graph[node])\n",
        "    return visited\n",
        "\n",
        "def dfs(graph, start, visited=None):\n",
        "    if visited is None:\n",
        "        visited = []\n",
        "    visited.append(start)\n",
        "    for neighbor in graph[start]:\n",
        "        if neighbor not in visited:\n",
        "            dfs(graph, neighbor, visited)\n",
        "    return visited\n",
        "\n",
        "print(\"BFS:\", bfs(graph, 'A'))\n",
        "print(\"DFS:\", dfs(graph, 'A'))\n"
      ],
      "metadata": {
        "colab": {
          "base_uri": "https://localhost:8080/"
        },
        "id": "5nhg2hsn0YeD",
        "outputId": "96892e81-6347-4039-f69c-eddadc965cee"
      },
      "execution_count": null,
      "outputs": [
        {
          "output_type": "stream",
          "name": "stdout",
          "text": [
            "BFS: ['A', 'B', 'C', 'D', 'E', 'F']\n",
            "DFS: ['A', 'B', 'D', 'E', 'C', 'F']\n"
          ]
        }
      ]
    },
    {
      "cell_type": "markdown",
      "source": [],
      "metadata": {
        "id": "y-4FYwNgJxtm"
      }
    },
    {
      "cell_type": "markdown",
      "source": [
        "# TASK #2: Dictionary **Operations**"
      ],
      "metadata": {
        "id": "WdXfD6gn0jJG"
      }
    },
    {
      "cell_type": "code",
      "source": [
        "student = {\n",
        "    \"name\": \"Mashal\",\n",
        "    \"age\": 21,\n",
        "    \"roll_number\": \"SP23-BSE-103\",\n",
        "    \"grade\": \"B\"\n",
        "}\n",
        "\n",
        "# 1. Print keys and values\n",
        "print(student)\n",
        "\n",
        "# 2. Update grade\n",
        "student[\"grade\"] = \"A\"\n",
        "\n",
        "# 3. Add email\n",
        "student[\"email\"] = \"mashal@example.com\"\n",
        "\n",
        "# 4. Delete roll_number\n",
        "del student[\"roll_number\"]\n",
        "\n",
        "print(student)\n"
      ],
      "metadata": {
        "colab": {
          "base_uri": "https://localhost:8080/"
        },
        "id": "aykBYZdD0lvn",
        "outputId": "385ef65b-3934-463f-d65d-693a2c049352"
      },
      "execution_count": null,
      "outputs": [
        {
          "output_type": "stream",
          "name": "stdout",
          "text": [
            "{'name': 'Mashal', 'age': 21, 'roll_number': 'SP23-BSE-103', 'grade': 'B'}\n",
            "{'name': 'Mashal', 'age': 21, 'grade': 'A', 'email': 'mashal@example.com'}\n"
          ]
        }
      ]
    },
    {
      "cell_type": "markdown",
      "source": [
        "# 📊 TASK #3: Matplotlib Line **Plot**"
      ],
      "metadata": {
        "id": "5O93-61t0rAW"
      }
    },
    {
      "cell_type": "code",
      "source": [
        "import matplotlib.pyplot as plt\n",
        "\n",
        "X = [1, 2, 3, 4, 5]\n",
        "Y = [2, 4, 6, 8, 10]\n",
        "\n",
        "plt.plot(X, Y)\n",
        "plt.title(\"Simple Line Plot\")\n",
        "plt.xlabel(\"X-axis\")\n",
        "plt.ylabel(\"Y-axis\")\n",
        "plt.grid(True)\n",
        "plt.show()\n"
      ],
      "metadata": {
        "colab": {
          "base_uri": "https://localhost:8080/",
          "height": 472
        },
        "id": "LidjlGVM0yjw",
        "outputId": "901f07a3-3455-4692-d8da-bc4bfb88feff"
      },
      "execution_count": null,
      "outputs": [
        {
          "output_type": "display_data",
          "data": {
            "text/plain": [
              "<Figure size 640x480 with 1 Axes>"
            ],
            "image/png": "[encoded data removed]"
          },
          "metadata": {}
        }
      ]
    },
    {
      "cell_type": "markdown",
      "source": [
        "# 🧪 TASK #5: Water Jug Problem – BFS vs **DFS**"
      ],
      "metadata": {
        "id": "3bBV5A7R0371"
      }
    },
    {
      "cell_type": "code",
      "source": [
        "from collections import deque\n",
        "\n",
        "def is_goal(state):\n",
        "    return state[0] == 2 or state[1] == 2\n",
        "\n",
        "def get_next_states(state):\n",
        "    x, y = state\n",
        "    return [\n",
        "        (4, y), (x, 3), (0, y), (x, 0),\n",
        "        (min(x + y, 4), max(0, x + y - 4)),\n",
        "        (max(0, x + y - 3), min(x + y, 3))\n",
        "    ]\n",
        "\n",
        "def bfs(start):\n",
        "    visited = set()\n",
        "    queue = deque([(start, [])])\n",
        "    while queue:\n",
        "        (state, path) = queue.popleft()\n",
        "        if state in visited:\n",
        "            continue\n",
        "        visited.add(state)\n",
        "        path = path + [state]\n",
        "        if is_goal(state):\n",
        "            return path\n",
        "        for next_state in get_next_states(state):\n",
        "            queue.append((next_state, path))\n",
        "    return []\n",
        "\n",
        "def dfs(start, visited=None, path=None):\n",
        "    if visited is None: visited = set()\n",
        "    if path is None: path = []\n",
        "    visited.add(start)\n",
        "    path = path + [start]\n",
        "    if is_goal(start): return path\n",
        "    for next_state in get_next_states(start):\n",
        "        if next_state not in visited:\n",
        "            result = dfs(next_state, visited, path)\n",
        "            if result: return result\n",
        "    return []\n",
        "\n",
        "start = (0, 0)\n",
        "print(\"BFS Path:\", bfs(start))\n",
        "print(\"DFS Path:\", dfs(start))\n"
      ],
      "metadata": {
        "colab": {
          "base_uri": "https://localhost:8080/"
        },
        "id": "0tchtXOt08nF",
        "outputId": "28a376ed-5b62-4ff4-eaf4-8d34ef3c600c"
      },
      "execution_count": null,
      "outputs": [
        {
          "output_type": "stream",
          "name": "stdout",
          "text": [
            "BFS Path: [(0, 0), (0, 3), (3, 0), (3, 3), (4, 2)]\n",
            "DFS Path: [(0, 0), (4, 0), (4, 3), (0, 3), (3, 0), (3, 3), (4, 2)]\n"
          ]
        }
      ]
    },
    {
      "cell_type": "markdown",
      "source": [
        "# 🧭 TASK #6: A* Search in **Maze**"
      ],
      "metadata": {
        "id": "20I6y8it1FrY"
      }
    },
    {
      "cell_type": "code",
      "source": [
        "# 📌 Step 1: Define the Maze\n",
        "maze = [\n",
        "    [' ', ' ', ' ', 'X', 'Y'],\n",
        "    ['X', 'X', ' ', 'X', 'X'],\n",
        "    [' ', ' ', ' ', ' ', ' '],\n",
        "    [' ', 'X', 'X', 'X', ' '],\n",
        "    ['A', ' ', ' ', ' ', ' ']\n",
        "]\n",
        "\n",
        "# 📌 Step 2: Helper Functions\n",
        "def find_position(maze, target):\n",
        "    for i in range(len(maze)):\n",
        "        for j in range(len(maze[0])):\n",
        "            if maze[i][j] == target:\n",
        "                return (i, j)\n",
        "    return None\n",
        "\n",
        "def heuristic(a, b):\n",
        "    return abs(a[0] - b[0]) + abs(a[1] - b[1])  # Manhattan distance\n",
        "\n",
        "def get_neighbors(pos, maze):\n",
        "    directions = [(-1,0), (1,0), (0,-1), (0,1)]\n",
        "    neighbors = []\n",
        "    for dx, dy in directions:\n",
        "        x, y = pos[0] + dx, pos[1] + dy\n",
        "        if 0 <= x < len(maze) and 0 <= y < len(maze[0]) and maze[x][y] != 'X':\n",
        "            neighbors.append((x, y))\n",
        "    return neighbors\n",
        "\n",
        "# 📌 Step 3: A* Search Algorithm\n",
        "def a_star(maze, start, goal):\n",
        "    open_set = [(heuristic(start, goal), 0, start, [])]  # (f, g, position, path)\n",
        "    visited = set()\n",
        "\n",
        "    while open_set:\n",
        "        open_set.sort()\n",
        "        f, g, current, path = open_set.pop(0)\n",
        "\n",
        "        if current in visited:\n",
        "            continue\n",
        "        visited.add(current)\n",
        "\n",
        "        path = path + [current]\n",
        "\n",
        "        if current == goal:\n",
        "            return path\n",
        "\n",
        "        for neighbor in get_neighbors(current, maze):\n",
        "            if neighbor not in visited:\n",
        "                open_set.append((g + 1 + heuristic(neighbor, goal), g + 1, neighbor, path))\n",
        "\n",
        "    return None\n",
        "\n",
        "# 📌 Step 4: Run the Solver\n",
        "start = find_position(maze, 'A')\n",
        "goal = find_position(maze, 'Y')\n",
        "path = a_star(maze, start, goal)\n",
        "\n",
        "# 📌 Step 5: Display the Result\n",
        "if path:\n",
        "    print(\"✅ Path found:\")\n",
        "    for step in path:\n",
        "        print(step)\n",
        "    # Mark path on maze\n",
        "    for x, y in path:\n",
        "        if maze[x][y] == ' ':\n",
        "            maze[x][y] = '.'\n",
        "else:\n",
        "    print(\"❌ No path found.\")\n",
        "\n",
        "# 📌 Step 6: Print Maze with Path\n",
        "print(\"\\n🧭 Maze with path:\")\n",
        "for row in maze:\n",
        "    print(' '.join(row))\n"
      ],
      "metadata": {
        "id": "UYjUI7yW7jEM",
        "outputId": "f390858b-b166-4930-b1b8-2cb1430c2383",
        "colab": {
          "base_uri": "https://localhost:8080/"
        }
      },
      "execution_count": null,
      "outputs": [
        {
          "output_type": "stream",
          "name": "stdout",
          "text": [
            "❌ No path found.\n",
            "\n",
            "🧭 Maze with path:\n",
            "      X Y\n",
            "X X   X X\n",
            "         \n",
            "  X X X  \n",
            "A        \n"
          ]
        }
      ]
    }
  ]
}